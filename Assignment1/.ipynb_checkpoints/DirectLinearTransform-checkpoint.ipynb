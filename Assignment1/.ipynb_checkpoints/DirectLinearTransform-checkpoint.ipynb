{
 "cells": [
  {
   "cell_type": "code",
   "execution_count": 299,
   "metadata": {},
   "outputs": [],
   "source": [
    "import cv2\n",
    "import matplotlib.pyplot as plt\n",
    "import numpy as np \n",
    "import os\n",
    "from numpy import linalg\n",
    "import itertools"
   ]
  },
  {
   "cell_type": "code",
   "execution_count": 307,
   "metadata": {},
   "outputs": [],
   "source": [
    "def DLT(corners,world_pt):\n",
    "    M = []\n",
    "    for i in range(20):\n",
    "        X,Y,Z = world_pt[i,0],world_pt[i,1],world_pt[i,2]\n",
    "        u,v = corners[i,0],corners[i,1]\n",
    "        a_x = [-X,-Y,-Z,-1,0,0,0,0,u*X,u*Y,u*Z,u]\n",
    "        a_y = [0,0,0,0,-X,-Y,-Z,-1,v*X,v*Y,v*Z,v]\n",
    "        M.append(a_x)\n",
    "        M.append(a_y)\n",
    "    M = np.array(M)\n",
    "    M = M.reshape(2*20,12)\n",
    "    \n",
    "    U,S,Vh = np.linalg.svd(M)\n",
    "    L = Vh[-1,:] /Vh[-1,-1]\n",
    "    \n",
    "    #Camera projection matrix:\n",
    "    P = L.reshape(3,4)\n",
    "    print(\"Projection Matrix\")\n",
    "    print(P)\n",
    "    \n",
    "    \n",
    "    \n",
    "    H = P[0:3,0:3]\n",
    "    h = P[:,-1]\n",
    "\n",
    "    \n",
    "    \n",
    "    H_inv = np.linalg.pinv(H)\n",
    "    #projection center X0= -H_inv.h\n",
    "    Proj_center = -1*np.matmul(H_inv,h)\n",
    "    print(\"projection_center\")\n",
    "    print(Proj_center)\n",
    "    \n",
    "    #QR Decomposition of H_inv for getting rotation and calibration matrix \n",
    "    q, r = np.linalg.qr(H_inv)\n",
    "    \n",
    "    \n",
    "    \n",
    "    K = np.linalg.pinv(r)\n",
    "    K = r/r[-1,-1]\n",
    "    print(\"Camera Calibration matrix\")\n",
    "    print(K)\n",
    "    \n",
    "    print(\"Rotation matrix\")\n",
    "    Rot_mat = q.transpose()\n",
    "    print(Rot_mat)\n",
    "    \n",
    "#     PX = np.matmul(P,world_pt[pt,:].reshape(4,1))\n",
    "    error = 0\n",
    "    for pt in range(20):\n",
    "        PX = np.matmul(P,world_pt[pt,:].reshape(4,1))\n",
    "        PX = PX/PX[-1,-1]\n",
    "        error += (np.linalg.norm((corners[pt]-PX)))\n",
    "\n",
    "    error = error/20\n",
    "    print(\"DLT Error\")\n",
    "    print(error)\n",
    "    return K"
   ]
  },
  {
   "cell_type": "code",
   "execution_count": 301,
   "metadata": {},
   "outputs": [],
   "source": [
    "def DLT_reproj(world_pt,corners):\n",
    "    pts = range(20)\n",
    "    comb = list(itertools.combinations(pts, 6))\n",
    "    no = len(comb)\n",
    "    flag = 0\n",
    "        \n",
    "    for j in range(no):\n",
    "        M_estimate = []\n",
    "\n",
    "        for i in comb[j]:     \n",
    "            X,Y,Z = world_pt[i,0],world_pt[i,1],world_pt[i,2]\n",
    "            u,v = corners[i,0],corners[i,1]\n",
    "            a_x = [-X,-Y,-Z,-1,0,0,0,0,u*X,u*Y,u*Z,u]\n",
    "            a_y = [0,0,0,0,-X,-Y,-Z,-1,v*X,v*Y,v*Z,v]\n",
    "            M_estimate.append(a_x)\n",
    "            M_estimate.append(a_y)    \n",
    "            \n",
    "        M_estimate = np.array(M_estimate)\n",
    "        M_estimate = M_estimate.reshape(2*6,12)\n",
    "\n",
    "        U,S,Vh = np.linalg.svd(M_estimate)\n",
    "        L = Vh[-1,:]/Vh[-1,-1]\n",
    "\n",
    "        #Camera projection matrix:\n",
    "        P_found = L.reshape(3,4)\n",
    "        \n",
    "        error=0\n",
    "        \n",
    "        for pt in range(20):\n",
    "            PX = np.matmul(P_found,world_pt[pt,:].reshape(4,1))\n",
    "            PX = PX/PX[-1,-1]\n",
    "            error += (np.linalg.norm((corners[pt]-PX)))\n",
    "        \n",
    "        error = error/20\n",
    "        \n",
    "        if flag==0:\n",
    "            least_error = error\n",
    "            flag = 1\n",
    "            P_opt = P_found\n",
    "        \n",
    "        if error < least_error:\n",
    "            P_opt = P_found\n",
    "            least_error = error\n",
    "    \n",
    "    print(\"Best P\")\n",
    "    print(P_opt)\n",
    "    print(\"Least Error\")\n",
    "    print(least_error)\n",
    "        \n",
    "    return P_opt    \n"
   ]
  },
  {
   "cell_type": "code",
   "execution_count": 302,
   "metadata": {},
   "outputs": [
    {
     "name": "stdout",
     "output_type": "stream",
     "text": [
      "(20, 4)\n",
      "(20, 4)\n"
     ]
    }
   ],
   "source": [
    "\n",
    "%matplotlib qt \n",
    "# corners = np.array([[630.499,1903.5,1],[1153.5,2689.5,1],[1280.5,1977.5,1],[708.504,3211.49,1],[2055.5,2408.5,1],[1657.5,2903.49,1],\n",
    "#            [1658.5,2441.49,1],[2190.5,2989.5,1],[1904.5,3022.5,1],[2047.5,2755.5,1],[1289.51,2640.49,1],[1907.49,2700.49,1],\n",
    "#            [1788.52,1981.46,1],[688.504,2861.49,1],[1166.5,3015.5,1],[1417.51,2279.49,1],[840.528,2444.47,1],[1285.54,2316.52,1]\n",
    "#            ,[1777.5,2960.5,1],[1001.5,2572.49,1]])\n",
    "# world_pt = np.array([[0,1,6,1],[0,6,3,1],[0,2,2,1],[0,8,6,1],[4,4,0,1],[1,8,0,1],\n",
    "#             [1,5,0,1],[5,7,0,1],[3,8,0,1],[4,6,0,1],[0,6,2,1],[3,6,0,1],\n",
    "#             [2,2,0,1],[0,6,6,1],[0,8,3,1],[0,4,1,1],[0,4,5,1],[0,4,2,1],\n",
    "#             [2,8,0,1],[0,5,4,1]]).astype(np.float32)\n",
    "\n",
    "world_pt=np.matrix([[0,28,28*6,1],[0,28,28*3,1],[0,28,0,1],[28*3,28,0,1],[28*6,28,3,1],\n",
    "                      [0,28*3,28*6,1],[0,28*3,28*3,1],[0,28*3,0,1],[28*3,28*3,0,1],[28*6,28*3,3,1],\n",
    "                      [0,28*5,28*6,1],[0,28*5,28*3,1],[0,28*5,0,1],[28*3,28*5,0,1],[28*6,28*5,3,1],\n",
    "                      [0,28*7,28*6,1],[0,28*7,28*3,1],[0,28*7,0,1],[28*3,28*7,0,1],[28*6,28*7,3,1]])\n",
    "\n",
    "corners = np.matrix([[627, 1908,1], [1136, 1829,1], [1549, 1764,1], [1926, 1829,1], [2413, 1922,1], [658, 2299,1], \n",
    "            [1145, 2185,1], [1549, 2093,1], [1922, 2189,1], [2387, 2321,1], [688, 2685,1], [1145, 2523,1], \n",
    "            [1540, 2400,1], [1913, 2540,1], [2374, 2698,1], [706, 3032,1], [1158, 2856,1], [1544, 2707,1], \n",
    "            [1913, 2861,1], [2352, 3062,1]])\n",
    "\n",
    "# world_pt = world_pt*28\n",
    "# o= np.ones(20)\n",
    "# print(o.shape())\n",
    "# np.append(world_pt,,axis=1)\n",
    "print(world_pt.shape)\n",
    "\n",
    "image = cv2.imread('Camera_calibration_data/calib-object.jpg')\n",
    "# plt.figure()\n",
    "# plt.imshow(image)\n",
    "print(world_pt.shape)\n"
   ]
  },
  {
   "cell_type": "code",
   "execution_count": 308,
   "metadata": {},
   "outputs": [
    {
     "name": "stdout",
     "output_type": "stream",
     "text": [
      "(20, 3)\n",
      "Projection Matrix\n",
      "[[ 2.43230665e+00  6.06749709e-01 -6.16125164e+00  1.54083681e+03]\n",
      " [-1.36811875e+00  6.68999676e+00 -1.24293395e+00  1.59596820e+03]\n",
      " [-1.18597072e-03  3.82948419e-04 -1.10526986e-03  1.00000000e+00]]\n",
      "projection_center\n",
      "[433.70355384 -72.92804573 414.11841734]\n",
      "Camera Calibration matrix\n",
      "[[ 2.70167789e-04 -4.48008173e-07 -4.03902385e-01]\n",
      " [-0.00000000e+00  2.73707613e-04 -5.48268951e-01]\n",
      " [-0.00000000e+00 -0.00000000e+00  1.00000000e+00]]\n",
      "Rotation matrix\n",
      "[[-0.68242233 -0.00375398  0.73094848]\n",
      " [-0.16554867 -0.97320881 -0.15955641]\n",
      " [ 0.71196447 -0.22989241  0.66351795]]\n",
      "DLT Error\n",
      "4371.0482509086305\n"
     ]
    }
   ],
   "source": [
    "# corners = corners.reshape(-1,3)\n",
    "print (corners.shape)\n",
    "# print (corners)\n",
    "# print (world_pt.shape)\n",
    "# print(world_pt)\n",
    "\n",
    "K = DLT(corners,world_pt)\n"
   ]
  },
  {
   "cell_type": "code",
   "execution_count": 304,
   "metadata": {},
   "outputs": [
    {
     "name": "stderr",
     "output_type": "stream",
     "text": [
      "/Users/GowriL/anaconda3/lib/python3.7/site-packages/ipykernel_launcher.py:22: RuntimeWarning: divide by zero encountered in true_divide\n",
      "/Users/GowriL/anaconda3/lib/python3.7/site-packages/ipykernel_launcher.py:22: RuntimeWarning: invalid value encountered in true_divide\n",
      "/Users/GowriL/anaconda3/lib/python3.7/site-packages/ipykernel_launcher.py:30: RuntimeWarning: invalid value encountered in matmul\n",
      "/Users/GowriL/anaconda3/lib/python3.7/site-packages/ipykernel_launcher.py:31: RuntimeWarning: divide by zero encountered in true_divide\n",
      "/Users/GowriL/anaconda3/lib/python3.7/site-packages/ipykernel_launcher.py:31: RuntimeWarning: invalid value encountered in true_divide\n"
     ]
    },
    {
     "name": "stdout",
     "output_type": "stream",
     "text": [
      "Best P\n",
      "[[-1.84404762e+01  1.68719534e-11 -9.22023810e+00  1.54900000e+03]\n",
      " [-2.10000000e+01 -7.49692470e-11 -1.05000000e+01  1.76400000e+03]\n",
      " [-1.19047619e-02 -7.28219745e-14 -5.95238095e-03  1.00000000e+00]]\n",
      "Least Error\n",
      "4004.7804011477374\n"
     ]
    }
   ],
   "source": [
    "DLT_reproj(world_pt,corners)"
   ]
  },
  {
   "cell_type": "markdown",
   "metadata": {},
   "source": [
    "# Correcting Radial Distortion "
   ]
  },
  {
   "cell_type": "code",
   "execution_count": 333,
   "metadata": {},
   "outputs": [
    {
     "name": "stdout",
     "output_type": "stream",
     "text": [
      "New Camera Matrix\n",
      "[[3.73681571e-04 0.00000000e+00 7.25075131e-39]\n",
      " [0.00000000e+00 2.90346186e-04 7.66386162e-39]\n",
      " [0.00000000e+00 0.00000000e+00 1.00000000e+00]]\n",
      "(0, 0, 1016, 501)\n"
     ]
    },
    {
     "data": {
      "text/plain": [
       "True"
      ]
     },
     "execution_count": 333,
     "metadata": {},
     "output_type": "execute_result"
    }
   ],
   "source": [
    "distorted_imag = cv2.imread('Camera_calibration_data/Fig1.png')\n",
    "# distorted_imag_gry = cv2.cvtColor(distorted_imag, cv2.COLOR_RGB2GRAY)\n",
    "\n",
    "dist_im_pts = np.array([[1595,37],[504,196],[1169,141],[1758,262],[655,336],[1290,344],[796,475],[1428,563],[366,767],[924,599],[1567,778],[71,1590],[659,1343],[1039,1222],[1550,1486],[220,1365],[792,1118],[1413,1228],[198,1002],[797,799],[1154,810],[1715,1008]]).astype(np.float32)\n",
    "dist_w_pts = np.array([[126,14,0],[0,42,98],[42,42,0],[154,42,0],[0,70,70],[70,70,0],[0,98,42],[98,98,0],[0,126,126],[0,126,14],[126,126,0],[0,238,182],[0,238,70],[14,238,0],[126,238,0],[0,210,154],[0,210,42],[98,210,0],[0,154,154],[0,154,42],[42,154,0],[154,154,0]]).astype(np.float32)\n",
    "camera_matrix = K\n",
    "camera_matrix[0,1]=0\n",
    "camera_matrix[0,2]=0\n",
    "camera_matrix[1,2]=0\n",
    "\n",
    "dist_im_pts = np.array([[1595,37],[504,196],[1169,141],[1758,262],[655,336],[1290,344],[796,475],[1428,563],[366,767],[924,599],[1567,778],[71,1590],[659,1343],[1039,1222],[1550,1486],[220,1365],[792,1118],[1413,1228],[198,1002],[797,799],[1154,810],[1715,1008]]).astype(np.float32)\n",
    "dist_w_pts = np.array([[126,14,0],[0,42,98],[42,42,0],[154,42,0],[0,70,70],[70,70,0],[0,98,42],[98,98,0],[0,126,126],[0,126,14],[126,126,0],[0,238,182],[0,238,70],[14,238,0],[126,238,0],[0,210,154],[0,210,42],[98,210,0],[0,154,154],[0,154,42],[42,154,0],[154,154,0]]).astype(np.float32)\n",
    "\n",
    "# ret, mtx, dist, rvecs, tvecs = cv2.calibrateCamera(dist_w_pts,dist_im_pts, (distorted_imag.shape[1],distorted_imag.shape[0]), None, None)\n",
    "\n",
    "ret, mtx, dist, rvecs, tvecs = cv2.calibrateCamera(dist_w_pts, dist_im_pts, distorted_imag_gry.shape[::-1],None,None)\n",
    "\n",
    "h,  w = distorted_imag_gry.shape[:2]\n",
    "newcameramtx, roi=cv2.getOptimalNewCameraMatrix(mtx,dist,(w,h),1,(w,h))\n",
    "\n",
    "dst = cv2.undistort(distorted_imag_gry, mtx, dist, None, newcameramtx)\n",
    "\n",
    "# crop the image\n",
    "x,y,w,h = roi\n",
    "dst = dst[y:y+h, x:x+w]\n",
    "plt.figure()\n",
    "plt.imshow(dst)\n",
    "\n",
    "\n",
    "\n",
    "\n",
    "undistorted_img = cv2.undistort(distorted_imag, mtx, dist, None, newcameramtx)\n",
    "\n",
    "cv2.imwrite('calib-undistort.png', undistorted_img)\n",
    "\n"
   ]
  },
  {
   "cell_type": "code",
   "execution_count": null,
   "metadata": {},
   "outputs": [],
   "source": []
  }
 ],
 "metadata": {
  "kernelspec": {
   "display_name": "Python 3",
   "language": "python",
   "name": "python3"
  },
  "language_info": {
   "codemirror_mode": {
    "name": "ipython",
    "version": 3
   },
   "file_extension": ".py",
   "mimetype": "text/x-python",
   "name": "python",
   "nbconvert_exporter": "python",
   "pygments_lexer": "ipython3",
   "version": "3.7.3"
  }
 },
 "nbformat": 4,
 "nbformat_minor": 2
}
