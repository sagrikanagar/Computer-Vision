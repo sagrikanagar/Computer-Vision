{
 "cells": [
  {
   "cell_type": "code",
   "execution_count": 0,
   "metadata": {
    "colab": {},
    "colab_type": "code",
    "id": "ksS94kY3eVB6"
   },
   "outputs": [],
   "source": [
    "from __future__ import print_function\n",
    "import keras\n",
    "from keras.datasets import cifar100\n",
    "from keras.preprocessing.image import ImageDataGenerator\n",
    "from keras.models import Sequential\n",
    "from keras.layers import Dense, Dropout, Activation, Flatten\n",
    "from keras.layers import Conv2D, MaxPooling2D\n",
    "import keras.backend as K\n",
    "import tensorflow as tf\n",
    "\n",
    "import os\n",
    "import pickle\n",
    "import numpy as np\n",
    "import h5py\n",
    "import pandas as pd\n",
    "import matplotlib.pyplot as plt"
   ]
  },
  {
   "cell_type": "markdown",
   "metadata": {
    "colab_type": "text",
    "id": "a3Z8oxIegKNk"
   },
   "source": [
    "## **Downloading DataSet**"
   ]
  },
  {
   "cell_type": "markdown",
   "metadata": {
    "colab_type": "text",
    "id": "Htvu62oYhj3d"
   },
   "source": [
    "We use the dataset CIFAR100 for Multiclass Classification\n",
    " \n",
    "* Batch_size: amount of samples that will be feed-forward in our model at once\n",
    "\n",
    "* Img_width = 32, Img_height = 32, channels = 3 as RGB image\n",
    "\n",
    "\n",
    "*   loss_function: compare predictions with ground truth during training\n",
    "*   number of classes: 100\n",
    "\n",
    "\n",
    "*  optimizer: method by which we update the weights of our neural network\n"
   ]
  },
  {
   "cell_type": "code",
   "execution_count": 4,
   "metadata": {
    "colab": {
     "base_uri": "https://localhost:8080/",
     "height": 68
    },
    "colab_type": "code",
    "id": "Y5RgauhtecAn",
    "outputId": "b58f16a4-9a28-4e08-a945-416fbdb57a0a"
   },
   "outputs": [
    {
     "name": "stdout",
     "output_type": "stream",
     "text": [
      "x_train shape: (50000, 32, 32, 3)\n",
      "50000 train samples\n",
      "10000 test samples\n"
     ]
    }
   ],
   "source": [
    "num_classes = 100\n",
    "save_dir = os.path.join(os.getcwd(), 'saved_models')\n",
    "model_name = 'cifar100.h5'\n",
    "\n",
    "# The data, shuffled and split between train and test sets:\n",
    "(x_train, y_train), (x_test, y_test) = cifar100.load_data()\n",
    "print('x_train shape:', x_train.shape)\n",
    "print(x_train.shape[0], 'train samples')\n",
    "print(x_test.shape[0], 'test samples')\n",
    "\n",
    "# Convert class vectors to binary class matrices.\n",
    "y_train = keras.utils.to_categorical(y_train, num_classes)\n",
    "y_test = keras.utils.to_categorical(y_test, num_classes)\n",
    "\n",
    "x_train = x_train.astype('float32')\n",
    "x_test = x_test.astype('float32')\n",
    "x_train /= 255.\n",
    "x_test /= 255."
   ]
  },
  {
   "cell_type": "markdown",
   "metadata": {
    "colab_type": "text",
    "id": "uqbv5qPLgW_X"
   },
   "source": [
    "##  **Network**"
   ]
  },
  {
   "cell_type": "code",
   "execution_count": 0,
   "metadata": {
    "colab": {},
    "colab_type": "code",
    "id": "WLVeCcvLefyp"
   },
   "outputs": [],
   "source": [
    "model = Sequential()\n",
    "\n",
    "model.add(Conv2D(128, (3, 3), padding='same',\n",
    "                 input_shape=x_train.shape[1:]))\n",
    "model.add(Activation('elu'))\n",
    "model.add(Conv2D(128, (3, 3)))\n",
    "model.add(Activation('elu'))\n",
    "model.add(MaxPooling2D(pool_size=(2, 2)))\n",
    "\n",
    "model.add(Conv2D(256, (3, 3), padding='same'))\n",
    "model.add(Activation('elu'))\n",
    "model.add(Conv2D(256, (3, 3)))\n",
    "model.add(Activation('elu'))\n",
    "model.add(MaxPooling2D(pool_size=(2, 2)))\n",
    "model.add(Dropout(0.25))\n",
    "\n",
    "model.add(Conv2D(512, (3, 3), padding='same'))\n",
    "model.add(Activation('elu'))\n",
    "model.add(Conv2D(512, (3, 3)))\n",
    "model.add(Activation('elu'))\n",
    "model.add(MaxPooling2D(pool_size=(2, 2)))\n",
    "model.add(Dropout(0.25))\n",
    "\n",
    "model.add(Flatten())\n",
    "model.add(Dense(1024))\n",
    "model.add(Activation('elu'))\n",
    "model.add(Dropout(0.5))\n",
    "model.add(Dense(num_classes))\n",
    "model.add(Activation('softmax'))\n",
    "\n",
    "# initiate RMSprop optimizer\n",
    "opt = keras.optimizers.rmsprop(lr=0.0001, decay=1e-6)\n",
    "\n",
    "# training the model using RMSprop\n",
    "model.compile(loss='categorical_crossentropy',\n",
    "              optimizer=opt,\n",
    "              metrics=['accuracy'])"
   ]
  },
  {
   "cell_type": "markdown",
   "metadata": {
    "colab_type": "text",
    "id": "chm8_6npgxqp"
   },
   "source": [
    "# **Model Fitting**"
   ]
  },
  {
   "cell_type": "code",
   "execution_count": 8,
   "metadata": {
    "colab": {
     "base_uri": "https://localhost:8080/",
     "height": 1000
    },
    "colab_type": "code",
    "id": "p_TQojHJei6Q",
    "outputId": "7e18aa17-3118-480f-bc9c-00e8e3daece7"
   },
   "outputs": [
    {
     "name": "stdout",
     "output_type": "stream",
     "text": [
      "Train on 50000 samples, validate on 10000 samples\n",
      "Epoch 1/50\n",
      "50000/50000 [==============================] - 63s 1ms/step - loss: 2.1612 - accuracy: 0.4467 - val_loss: 2.1108 - val_accuracy: 0.4639\n",
      "Epoch 2/50\n",
      "50000/50000 [==============================] - 63s 1ms/step - loss: 2.0398 - accuracy: 0.4723 - val_loss: 2.0401 - val_accuracy: 0.4722\n",
      "Epoch 3/50\n",
      "50000/50000 [==============================] - 63s 1ms/step - loss: 1.9221 - accuracy: 0.4950 - val_loss: 1.9920 - val_accuracy: 0.4933\n",
      "Epoch 4/50\n",
      "50000/50000 [==============================] - 63s 1ms/step - loss: 1.8114 - accuracy: 0.5202 - val_loss: 1.9699 - val_accuracy: 0.4927\n",
      "Epoch 5/50\n",
      "50000/50000 [==============================] - 62s 1ms/step - loss: 1.6899 - accuracy: 0.5494 - val_loss: 1.9667 - val_accuracy: 0.4923\n",
      "Epoch 6/50\n",
      "50000/50000 [==============================] - 62s 1ms/step - loss: 1.5766 - accuracy: 0.5765 - val_loss: 1.9137 - val_accuracy: 0.5073\n",
      "Epoch 7/50\n",
      "50000/50000 [==============================] - 62s 1ms/step - loss: 1.4688 - accuracy: 0.6005 - val_loss: 1.9536 - val_accuracy: 0.5080\n",
      "Epoch 8/50\n",
      "50000/50000 [==============================] - 62s 1ms/step - loss: 1.3625 - accuracy: 0.6215 - val_loss: 1.8924 - val_accuracy: 0.5223\n",
      "Epoch 9/50\n",
      "50000/50000 [==============================] - 62s 1ms/step - loss: 1.2707 - accuracy: 0.6465 - val_loss: 1.8472 - val_accuracy: 0.5310\n",
      "Epoch 10/50\n",
      "50000/50000 [==============================] - 62s 1ms/step - loss: 1.1744 - accuracy: 0.6705 - val_loss: 1.8820 - val_accuracy: 0.5302\n",
      "Epoch 11/50\n",
      "50000/50000 [==============================] - 62s 1ms/step - loss: 1.0815 - accuracy: 0.6911 - val_loss: 1.8863 - val_accuracy: 0.5297\n",
      "Epoch 12/50\n",
      "50000/50000 [==============================] - 62s 1ms/step - loss: 0.9893 - accuracy: 0.7154 - val_loss: 1.9413 - val_accuracy: 0.5269\n",
      "Epoch 13/50\n",
      "50000/50000 [==============================] - 62s 1ms/step - loss: 0.9133 - accuracy: 0.7347 - val_loss: 1.9460 - val_accuracy: 0.5364\n",
      "Epoch 14/50\n",
      "50000/50000 [==============================] - 63s 1ms/step - loss: 0.8345 - accuracy: 0.7546 - val_loss: 1.9120 - val_accuracy: 0.5368\n",
      "Epoch 15/50\n",
      "50000/50000 [==============================] - 63s 1ms/step - loss: 0.7737 - accuracy: 0.7707 - val_loss: 1.9976 - val_accuracy: 0.5280\n",
      "Epoch 16/50\n",
      "50000/50000 [==============================] - 63s 1ms/step - loss: 0.7010 - accuracy: 0.7888 - val_loss: 1.9605 - val_accuracy: 0.5407\n",
      "Epoch 17/50\n",
      "50000/50000 [==============================] - 63s 1ms/step - loss: 0.6459 - accuracy: 0.8051 - val_loss: 1.9510 - val_accuracy: 0.5394\n",
      "Epoch 18/50\n",
      "50000/50000 [==============================] - 63s 1ms/step - loss: 0.5878 - accuracy: 0.8205 - val_loss: 2.0290 - val_accuracy: 0.5434\n",
      "Epoch 19/50\n",
      "50000/50000 [==============================] - 63s 1ms/step - loss: 0.5398 - accuracy: 0.8350 - val_loss: 2.0400 - val_accuracy: 0.5385\n",
      "Epoch 20/50\n",
      "50000/50000 [==============================] - 63s 1ms/step - loss: 0.4978 - accuracy: 0.8461 - val_loss: 2.1446 - val_accuracy: 0.5496\n",
      "Epoch 21/50\n",
      "50000/50000 [==============================] - 63s 1ms/step - loss: 0.4564 - accuracy: 0.8581 - val_loss: 2.0576 - val_accuracy: 0.5379\n",
      "Epoch 22/50\n",
      "50000/50000 [==============================] - 63s 1ms/step - loss: 0.4289 - accuracy: 0.8669 - val_loss: 2.2093 - val_accuracy: 0.5501\n",
      "Epoch 23/50\n",
      "50000/50000 [==============================] - 63s 1ms/step - loss: 0.3993 - accuracy: 0.8765 - val_loss: 2.2060 - val_accuracy: 0.5466\n",
      "Epoch 24/50\n",
      "50000/50000 [==============================] - 63s 1ms/step - loss: 0.3683 - accuracy: 0.8849 - val_loss: 2.1630 - val_accuracy: 0.5380\n",
      "Epoch 25/50\n",
      "50000/50000 [==============================] - 64s 1ms/step - loss: 0.3493 - accuracy: 0.8924 - val_loss: 2.1684 - val_accuracy: 0.5444\n",
      "Epoch 26/50\n",
      "50000/50000 [==============================] - 63s 1ms/step - loss: 0.3204 - accuracy: 0.9000 - val_loss: 2.2401 - val_accuracy: 0.5426\n",
      "Epoch 27/50\n",
      "50000/50000 [==============================] - 63s 1ms/step - loss: 0.3044 - accuracy: 0.9057 - val_loss: 2.2343 - val_accuracy: 0.5401\n",
      "Epoch 28/50\n",
      "50000/50000 [==============================] - 63s 1ms/step - loss: 0.2868 - accuracy: 0.9104 - val_loss: 2.3049 - val_accuracy: 0.5437\n",
      "Epoch 29/50\n",
      "50000/50000 [==============================] - 63s 1ms/step - loss: 0.2707 - accuracy: 0.9157 - val_loss: 2.3941 - val_accuracy: 0.5406\n",
      "Epoch 30/50\n",
      "50000/50000 [==============================] - 63s 1ms/step - loss: 0.2590 - accuracy: 0.9206 - val_loss: 2.4278 - val_accuracy: 0.5456\n",
      "Epoch 31/50\n",
      "50000/50000 [==============================] - 63s 1ms/step - loss: 0.2407 - accuracy: 0.9243 - val_loss: 2.3932 - val_accuracy: 0.5455\n",
      "Epoch 32/50\n",
      "50000/50000 [==============================] - 63s 1ms/step - loss: 0.2358 - accuracy: 0.9268 - val_loss: 2.4607 - val_accuracy: 0.5510\n",
      "Epoch 33/50\n",
      "50000/50000 [==============================] - 63s 1ms/step - loss: 0.2301 - accuracy: 0.9288 - val_loss: 2.4346 - val_accuracy: 0.5411\n",
      "Epoch 34/50\n",
      "50000/50000 [==============================] - 63s 1ms/step - loss: 0.2206 - accuracy: 0.9312 - val_loss: 2.4728 - val_accuracy: 0.5487\n",
      "Epoch 35/50\n",
      "50000/50000 [==============================] - 63s 1ms/step - loss: 0.2079 - accuracy: 0.9358 - val_loss: 2.6035 - val_accuracy: 0.5439\n",
      "Epoch 36/50\n",
      "50000/50000 [==============================] - 63s 1ms/step - loss: 0.2057 - accuracy: 0.9358 - val_loss: 2.2766 - val_accuracy: 0.5425\n",
      "Epoch 37/50\n",
      "50000/50000 [==============================] - 63s 1ms/step - loss: 0.1968 - accuracy: 0.9399 - val_loss: 2.3900 - val_accuracy: 0.5441\n",
      "Epoch 38/50\n",
      "50000/50000 [==============================] - 63s 1ms/step - loss: 0.1909 - accuracy: 0.9410 - val_loss: 2.4747 - val_accuracy: 0.5465\n",
      "Epoch 39/50\n",
      "50000/50000 [==============================] - 64s 1ms/step - loss: 0.1879 - accuracy: 0.9418 - val_loss: 2.4327 - val_accuracy: 0.5454\n",
      "Epoch 40/50\n",
      "50000/50000 [==============================] - 64s 1ms/step - loss: 0.1770 - accuracy: 0.9453 - val_loss: 2.4911 - val_accuracy: 0.5500\n",
      "Epoch 41/50\n",
      "50000/50000 [==============================] - 63s 1ms/step - loss: 0.1757 - accuracy: 0.9454 - val_loss: 2.2837 - val_accuracy: 0.5423\n",
      "Epoch 42/50\n",
      "50000/50000 [==============================] - 63s 1ms/step - loss: 0.1706 - accuracy: 0.9460 - val_loss: 2.5532 - val_accuracy: 0.5392\n",
      "Epoch 43/50\n",
      "50000/50000 [==============================] - 63s 1ms/step - loss: 0.1644 - accuracy: 0.9483 - val_loss: 2.3649 - val_accuracy: 0.5448\n",
      "Epoch 44/50\n",
      "50000/50000 [==============================] - 63s 1ms/step - loss: 0.1651 - accuracy: 0.9497 - val_loss: 2.3895 - val_accuracy: 0.5465\n",
      "Epoch 45/50\n",
      "50000/50000 [==============================] - 63s 1ms/step - loss: 0.1651 - accuracy: 0.9504 - val_loss: 2.8186 - val_accuracy: 0.5517\n",
      "Epoch 46/50\n",
      "50000/50000 [==============================] - 64s 1ms/step - loss: 0.1588 - accuracy: 0.9517 - val_loss: 2.8806 - val_accuracy: 0.5456\n",
      "Epoch 47/50\n",
      "50000/50000 [==============================] - 63s 1ms/step - loss: 0.1553 - accuracy: 0.9528 - val_loss: 2.6195 - val_accuracy: 0.5504\n",
      "Epoch 48/50\n",
      "50000/50000 [==============================] - 64s 1ms/step - loss: 0.1518 - accuracy: 0.9523 - val_loss: 2.6581 - val_accuracy: 0.5434\n",
      "Epoch 49/50\n",
      "50000/50000 [==============================] - 63s 1ms/step - loss: 0.1514 - accuracy: 0.9539 - val_loss: 2.2576 - val_accuracy: 0.5336\n",
      "Epoch 50/50\n",
      "50000/50000 [==============================] - 63s 1ms/step - loss: 0.1499 - accuracy: 0.9551 - val_loss: 2.1556 - val_accuracy: 0.5275\n"
     ]
    }
   ],
   "source": [
    "epochs = 50\n",
    "num_predictions = 20\n",
    "batch_size = 64\n",
    "validations = []\n",
    "history = model.fit(x_train, y_train,batch_size=batch_size,epochs=epochs,validation_data=(x_test, y_test),shuffle=True)\n",
    "pickle.dump(validations, open(\"loss_validation.p\",'wb'))"
   ]
  },
  {
   "cell_type": "markdown",
   "metadata": {
    "colab_type": "text",
    "id": "SPMw1rN7NBg1"
   },
   "source": [
    "# **Plots for Categorical Cross Entropy Loss**"
   ]
  },
  {
   "cell_type": "markdown",
   "metadata": {
    "colab_type": "text",
    "id": "owv89-ODNKVw"
   },
   "source": [
    "Also called Softmax Loss. It is a Softmax activation plus a Cross-Entropy loss. If we use this loss, we will train a CNN to output a probability over the \n",
    "C\n",
    " classes for each image. It is used for multi-class classification."
   ]
  },
  {
   "cell_type": "code",
   "execution_count": 9,
   "metadata": {
    "colab": {
     "base_uri": "https://localhost:8080/",
     "height": 607
    },
    "colab_type": "code",
    "id": "6g_HPcLJeseC",
    "outputId": "4842ccc0-893c-4e95-801e-cafdb1d74d4d"
   },
   "outputs": [
    {
     "name": "stdout",
     "output_type": "stream",
     "text": [
      "10000/10000 [==============================] - 5s 523us/step\n",
      "Test loss: 2.1555932670593263 / Test accuracy: 0.5274999737739563\n"
     ]
    },
    {
     "data": {
      "image/png": "[encoded data removed]",
      "text/plain": [
       "<Figure size 432x288 with 1 Axes>"
      ]
     },
     "metadata": {
      "needs_background": "light",
      "tags": []
     },
     "output_type": "display_data"
    },
    {
     "data": {
      "image/png": "[encoded data removed]",
      "text/plain": [
       "<Figure size 432x288 with 1 Axes>"
      ]
     },
     "metadata": {
      "needs_background": "light",
      "tags": []
     },
     "output_type": "display_data"
    }
   ],
   "source": [
    "# model.evaluate(x=x_test, y=y_test)\n",
    "\n",
    "# Generate generalization metrics\n",
    "score = model.evaluate(x=x_test, y=y_test, verbose=1)\n",
    "print(f'Test loss: {score[0]} / Test accuracy: {score[1]}')\n",
    "\n",
    "# Visualize history\n",
    "# Plot history: Loss\n",
    "plt.plot(history.history['val_loss'])\n",
    "plt.title('Validation loss history')\n",
    "plt.ylabel('Loss value')\n",
    "plt.xlabel('No. epoch')\n",
    "plt.show()\n",
    "\n",
    "# Plot history: Accuracy\n",
    "plt.plot(history.history['val_accuracy'])\n",
    "plt.title('Validation accuracy history')\n",
    "plt.ylabel('Accuracy value (%)')\n",
    "plt.xlabel('No. epoch')\n",
    "plt.show()"
   ]
  },
  {
   "cell_type": "code",
   "execution_count": 0,
   "metadata": {
    "colab": {},
    "colab_type": "code",
    "id": "p2ZQNvPgeusC"
   },
   "outputs": [],
   "source": [
    "ans=model.predict(x_test)"
   ]
  },
  {
   "cell_type": "code",
   "execution_count": 11,
   "metadata": {
    "colab": {
     "base_uri": "https://localhost:8080/",
     "height": 34
    },
    "colab_type": "code",
    "id": "XD9TrwJxexqo",
    "outputId": "d9a86b0d-10b7-4cbd-930d-1109bbe3c479"
   },
   "outputs": [
    {
     "name": "stdout",
     "output_type": "stream",
     "text": [
      "(10000, 100)\n"
     ]
    }
   ],
   "source": [
    "print(ans.shape)"
   ]
  },
  {
   "cell_type": "code",
   "execution_count": 0,
   "metadata": {
    "colab": {},
    "colab_type": "code",
    "id": "xVcqkjBJe1V2"
   },
   "outputs": [],
   "source": [
    "final_label=np.zeros(10000)\n",
    "gt=np.zeros(10000)\n",
    "\n",
    "for i in range(10000):\n",
    "  final_label[i]=np.argmax(ans[i,:])\n",
    "  gt[i]=np.argmax(y_test[i,:])"
   ]
  },
  {
   "cell_type": "code",
   "execution_count": 13,
   "metadata": {
    "colab": {
     "base_uri": "https://localhost:8080/",
     "height": 34
    },
    "colab_type": "code",
    "id": "Id-w5Utne4Aw",
    "outputId": "77b33af9-a31a-4e4e-b3a0-e5caba32c371"
   },
   "outputs": [
    {
     "name": "stdout",
     "output_type": "stream",
     "text": [
      "Test set accuracy: 0.5275\n"
     ]
    }
   ],
   "source": [
    "count=0\n",
    "for i in range(10000):\n",
    "  if(gt[i]==final_label[i]):\n",
    "    count=count+1\n",
    "\n",
    "print(\"Test set accuracy:\",count/10000)"
   ]
  },
  {
   "cell_type": "code",
   "execution_count": 0,
   "metadata": {
    "colab": {},
    "colab_type": "code",
    "id": "d1E-AKlAe64c"
   },
   "outputs": [],
   "source": [
    "def shuffle_weights(model, weights=None):\n",
    "    weights = model.get_weights()\n",
    "    weights = [np.random.permutation(w.flat).reshape(w.shape) for w in weights]\n",
    "    model.set_weights(weights)"
   ]
  },
  {
   "cell_type": "markdown",
   "metadata": {
    "colab_type": "text",
    "id": "y5x0Nkqxe-yw"
   },
   "source": [
    "# **Training the model with mean squared logarithmic loss**"
   ]
  },
  {
   "cell_type": "code",
   "execution_count": 21,
   "metadata": {
    "colab": {
     "base_uri": "https://localhost:8080/",
     "height": 714
    },
    "colab_type": "code",
    "id": "i3rsqJYqe_ih",
    "outputId": "2d005d44-b33a-4ece-8e28-74b329077e7c"
   },
   "outputs": [
    {
     "name": "stdout",
     "output_type": "stream",
     "text": [
      "Train on 50000 samples, validate on 10000 samples\n",
      "Epoch 1/20\n",
      "50000/50000 [==============================] - 63s 1ms/step - loss: 0.0047 - accuracy: 0.0619 - val_loss: 0.0046 - val_accuracy: 0.1335\n",
      "Epoch 2/20\n",
      "50000/50000 [==============================] - 63s 1ms/step - loss: 0.0046 - accuracy: 0.1358 - val_loss: 0.0044 - val_accuracy: 0.1968\n",
      "Epoch 3/20\n",
      "50000/50000 [==============================] - 63s 1ms/step - loss: 0.0044 - accuracy: 0.1914 - val_loss: 0.0042 - val_accuracy: 0.2454\n",
      "Epoch 4/20\n",
      "50000/50000 [==============================] - 63s 1ms/step - loss: 0.0042 - accuracy: 0.2427 - val_loss: 0.0040 - val_accuracy: 0.2827\n",
      "Epoch 5/20\n",
      "50000/50000 [==============================] - 63s 1ms/step - loss: 0.0041 - accuracy: 0.2796 - val_loss: 0.0039 - val_accuracy: 0.3196\n",
      "Epoch 6/20\n",
      "50000/50000 [==============================] - 63s 1ms/step - loss: 0.0039 - accuracy: 0.3167 - val_loss: 0.0038 - val_accuracy: 0.3382\n",
      "Epoch 7/20\n",
      "50000/50000 [==============================] - 63s 1ms/step - loss: 0.0038 - accuracy: 0.3433 - val_loss: 0.0037 - val_accuracy: 0.3756\n",
      "Epoch 8/20\n",
      "50000/50000 [==============================] - 63s 1ms/step - loss: 0.0037 - accuracy: 0.3696 - val_loss: 0.0036 - val_accuracy: 0.3814\n",
      "Epoch 9/20\n",
      "50000/50000 [==============================] - 63s 1ms/step - loss: 0.0036 - accuracy: 0.3952 - val_loss: 0.0036 - val_accuracy: 0.3949\n",
      "Epoch 10/20\n",
      "50000/50000 [==============================] - 63s 1ms/step - loss: 0.0035 - accuracy: 0.4178 - val_loss: 0.0035 - val_accuracy: 0.4089\n",
      "Epoch 11/20\n",
      "50000/50000 [==============================] - 63s 1ms/step - loss: 0.0034 - accuracy: 0.4383 - val_loss: 0.0035 - val_accuracy: 0.4136\n",
      "Epoch 12/20\n",
      "50000/50000 [==============================] - 63s 1ms/step - loss: 0.0033 - accuracy: 0.4596 - val_loss: 0.0034 - val_accuracy: 0.4269\n",
      "Epoch 13/20\n",
      "50000/50000 [==============================] - 63s 1ms/step - loss: 0.0032 - accuracy: 0.4796 - val_loss: 0.0034 - val_accuracy: 0.4328\n",
      "Epoch 14/20\n",
      "50000/50000 [==============================] - 63s 1ms/step - loss: 0.0031 - accuracy: 0.4990 - val_loss: 0.0034 - val_accuracy: 0.4371\n",
      "Epoch 15/20\n",
      "50000/50000 [==============================] - 62s 1ms/step - loss: 0.0030 - accuracy: 0.5178 - val_loss: 0.0033 - val_accuracy: 0.4534\n",
      "Epoch 16/20\n",
      "50000/50000 [==============================] - 63s 1ms/step - loss: 0.0029 - accuracy: 0.5314 - val_loss: 0.0033 - val_accuracy: 0.4585\n",
      "Epoch 17/20\n",
      "50000/50000 [==============================] - 63s 1ms/step - loss: 0.0028 - accuracy: 0.5488 - val_loss: 0.0033 - val_accuracy: 0.4608\n",
      "Epoch 18/20\n",
      "50000/50000 [==============================] - 63s 1ms/step - loss: 0.0027 - accuracy: 0.5666 - val_loss: 0.0033 - val_accuracy: 0.4655\n",
      "Epoch 19/20\n",
      "50000/50000 [==============================] - 63s 1ms/step - loss: 0.0026 - accuracy: 0.5802 - val_loss: 0.0033 - val_accuracy: 0.4680\n",
      "Epoch 20/20\n",
      "50000/50000 [==============================] - 63s 1ms/step - loss: 0.0026 - accuracy: 0.5942 - val_loss: 0.0033 - val_accuracy: 0.4608\n"
     ]
    }
   ],
   "source": [
    "shuffle_weights(model)\n",
    "model.compile(loss='mean_squared_logarithmic_error',\n",
    "              optimizer=opt,\n",
    "              metrics=['accuracy'])\n",
    "history = model.fit(x_train, y_train,batch_size=batch_size,epochs=20,validation_data=(x_test, y_test),shuffle=True)"
   ]
  },
  {
   "cell_type": "markdown",
   "metadata": {
    "colab_type": "text",
    "id": "L2DS5Wo1N4x3"
   },
   "source": [
    "# **Plots for Mean Square Logarithmic Loss**"
   ]
  },
  {
   "cell_type": "markdown",
   "metadata": {
    "colab_type": "text",
    "id": "Vexr-CI5N5QJ"
   },
   "source": [
    "Mean squared logarithmic error (MSLE) can be interpreted as a measure of the ratio between the true and predicted values. Mean squared logarithmic error is, as the name suggests, a variation of the Mean Squared Error.\n"
   ]
  },
  {
   "cell_type": "code",
   "execution_count": 22,
   "metadata": {
    "colab": {
     "base_uri": "https://localhost:8080/",
     "height": 607
    },
    "colab_type": "code",
    "id": "Nun1NPvzfCjd",
    "outputId": "405dc612-7c53-4e27-8046-630177832a6a"
   },
   "outputs": [
    {
     "name": "stdout",
     "output_type": "stream",
     "text": [
      "10000/10000 [==============================] - 5s 470us/step\n",
      "Test loss: 0.003258741495758295 / Test accuracy: 0.4607999920845032\n"
     ]
    },
    {
     "data": {
      "image/png": "[encoded data removed]",
      "text/plain": [
       "<Figure size 432x288 with 1 Axes>"
      ]
     },
     "metadata": {
      "needs_background": "light",
      "tags": []
     },
     "output_type": "display_data"
    },
    {
     "data": {
      "image/png": "[encoded data removed]",
      "text/plain": [
       "<Figure size 432x288 with 1 Axes>"
      ]
     },
     "metadata": {
      "needs_background": "light",
      "tags": []
     },
     "output_type": "display_data"
    }
   ],
   "source": [
    "# Generate generalization metrics\n",
    "score = model.evaluate(x=x_test, y=y_test, verbose=1)\n",
    "print(f'Test loss: {score[0]} / Test accuracy: {score[1]}')\n",
    "\n",
    "# Visualize history\n",
    "# Plot history: Loss\n",
    "plt.plot(history.history['val_loss'])\n",
    "plt.title('Validation loss history')\n",
    "plt.ylabel('Loss value')\n",
    "plt.xlabel('No. epoch')\n",
    "plt.show()\n",
    "\n",
    "# Plot history: Accuracy\n",
    "plt.plot(history.history['val_accuracy'])\n",
    "plt.title('Validation accuracy history')\n",
    "plt.ylabel('Accuracy value (%)')\n",
    "plt.xlabel('No. epoch')\n",
    "plt.show()"
   ]
  },
  {
   "cell_type": "code",
   "execution_count": 0,
   "metadata": {
    "colab": {},
    "colab_type": "code",
    "id": "0wqrWsc1FrE2"
   },
   "outputs": [],
   "source": [
    "ans=model.predict(x_test)\n",
    "final_label=np.zeros(10000)\n",
    "gt=np.zeros(10000)\n",
    "\n",
    "for i in range(10000):\n",
    "  final_label[i]=np.argmax(ans[i,:])\n",
    "  gt[i]=np.argmax(y_test[i,:])"
   ]
  },
  {
   "cell_type": "code",
   "execution_count": 24,
   "metadata": {
    "colab": {
     "base_uri": "https://localhost:8080/",
     "height": 34
    },
    "colab_type": "code",
    "id": "7jjciE4eFxV2",
    "outputId": "a4211c7d-e322-427d-a00a-57ed22634d91"
   },
   "outputs": [
    {
     "name": "stdout",
     "output_type": "stream",
     "text": [
      "Test set accuracy: 0.4608\n"
     ]
    }
   ],
   "source": [
    "count=0\n",
    "for i in range(10000):\n",
    "  if(gt[i]==final_label[i]):\n",
    "    count=count+1\n",
    "\n",
    "print(\"Test set accuracy:\",count/10000)"
   ]
  },
  {
   "cell_type": "code",
   "execution_count": 0,
   "metadata": {
    "colab": {},
    "colab_type": "code",
    "id": "Uub8aIxAF145"
   },
   "outputs": [],
   "source": [
    "def shuffle_weights(model, weights=None):\n",
    "    weights = model.get_weights()\n",
    "    weights = [np.random.permutation(w.flat).reshape(w.shape) for w in weights]\n",
    "    model.set_weights(weights)"
   ]
  },
  {
   "cell_type": "markdown",
   "metadata": {
    "colab_type": "text",
    "id": "Ps_Bkz1dGCOx"
   },
   "source": [
    "# **Using Hinge Loss for Training**"
   ]
  },
  {
   "cell_type": "code",
   "execution_count": 26,
   "metadata": {
    "colab": {
     "base_uri": "https://localhost:8080/",
     "height": 714
    },
    "colab_type": "code",
    "id": "vFOIcAPUGLGX",
    "outputId": "7c421f70-b0a9-42c9-dc71-bc06e5498279"
   },
   "outputs": [
    {
     "name": "stdout",
     "output_type": "stream",
     "text": [
      "Train on 50000 samples, validate on 10000 samples\n",
      "Epoch 1/20\n",
      "50000/50000 [==============================] - 63s 1ms/step - loss: 1.0098 - accuracy: 0.0101 - val_loss: 1.0098 - val_accuracy: 0.0100\n",
      "Epoch 2/20\n",
      "50000/50000 [==============================] - 62s 1ms/step - loss: 1.0098 - accuracy: 0.0099 - val_loss: 1.0098 - val_accuracy: 0.0100\n",
      "Epoch 3/20\n",
      "50000/50000 [==============================] - 62s 1ms/step - loss: 1.0098 - accuracy: 0.0106 - val_loss: 1.0097 - val_accuracy: 0.0160\n",
      "Epoch 4/20\n",
      "50000/50000 [==============================] - 63s 1ms/step - loss: 1.0095 - accuracy: 0.0235 - val_loss: 1.0095 - val_accuracy: 0.0240\n",
      "Epoch 5/20\n",
      "50000/50000 [==============================] - 63s 1ms/step - loss: 1.0094 - accuracy: 0.0320 - val_loss: 1.0093 - val_accuracy: 0.0369\n",
      "Epoch 6/20\n",
      "50000/50000 [==============================] - 63s 1ms/step - loss: 1.0093 - accuracy: 0.0361 - val_loss: 1.0093 - val_accuracy: 0.0341\n",
      "Epoch 7/20\n",
      "50000/50000 [==============================] - 62s 1ms/step - loss: 1.0092 - accuracy: 0.0404 - val_loss: 1.0090 - val_accuracy: 0.0489\n",
      "Epoch 8/20\n",
      "50000/50000 [==============================] - 62s 1ms/step - loss: 1.0091 - accuracy: 0.0453 - val_loss: 1.0090 - val_accuracy: 0.0497\n",
      "Epoch 9/20\n",
      "50000/50000 [==============================] - 63s 1ms/step - loss: 1.0090 - accuracy: 0.0496 - val_loss: 1.0089 - val_accuracy: 0.0532\n",
      "Epoch 10/20\n",
      "50000/50000 [==============================] - 63s 1ms/step - loss: 1.0090 - accuracy: 0.0519 - val_loss: 1.0089 - val_accuracy: 0.0560\n",
      "Epoch 11/20\n",
      "50000/50000 [==============================] - 63s 1ms/step - loss: 1.0089 - accuracy: 0.0558 - val_loss: 1.0088 - val_accuracy: 0.0602\n",
      "Epoch 12/20\n",
      "50000/50000 [==============================] - 62s 1ms/step - loss: 1.0088 - accuracy: 0.0619 - val_loss: 1.0085 - val_accuracy: 0.0724\n",
      "Epoch 13/20\n",
      "50000/50000 [==============================] - 63s 1ms/step - loss: 1.0085 - accuracy: 0.0731 - val_loss: 1.0084 - val_accuracy: 0.0785\n",
      "Epoch 14/20\n",
      "50000/50000 [==============================] - 62s 1ms/step - loss: 1.0085 - accuracy: 0.0765 - val_loss: 1.0085 - val_accuracy: 0.0775\n",
      "Epoch 15/20\n",
      "50000/50000 [==============================] - 62s 1ms/step - loss: 1.0084 - accuracy: 0.0809 - val_loss: 1.0082 - val_accuracy: 0.0908\n",
      "Epoch 16/20\n",
      "50000/50000 [==============================] - 62s 1ms/step - loss: 1.0083 - accuracy: 0.0832 - val_loss: 1.0082 - val_accuracy: 0.0900\n",
      "Epoch 17/20\n",
      "50000/50000 [==============================] - 62s 1ms/step - loss: 1.0083 - accuracy: 0.0862 - val_loss: 1.0081 - val_accuracy: 0.0969\n",
      "Epoch 18/20\n",
      "50000/50000 [==============================] - 62s 1ms/step - loss: 1.0082 - accuracy: 0.0891 - val_loss: 1.0083 - val_accuracy: 0.0871\n",
      "Epoch 19/20\n",
      "50000/50000 [==============================] - 62s 1ms/step - loss: 1.0082 - accuracy: 0.0883 - val_loss: 1.0081 - val_accuracy: 0.0933\n",
      "Epoch 20/20\n",
      "50000/50000 [==============================] - 62s 1ms/step - loss: 1.0082 - accuracy: 0.0903 - val_loss: 1.0082 - val_accuracy: 0.0897\n"
     ]
    }
   ],
   "source": [
    "shuffle_weights(model)\n",
    "model.compile(loss='hinge',\n",
    "              optimizer=opt,\n",
    "              metrics=['accuracy'])\n",
    "history = model.fit(x_train, y_train,batch_size=batch_size,epochs=20,validation_data=(x_test, y_test),shuffle=True)"
   ]
  },
  {
   "cell_type": "markdown",
   "metadata": {
    "colab_type": "text",
    "id": "mvP0LNIeOkOl"
   },
   "source": [
    "# **Plots for Hinge Loss**"
   ]
  },
  {
   "cell_type": "markdown",
   "metadata": {
    "colab_type": "text",
    "id": "gAqS0C32O6Xb"
   },
   "source": [
    "Hinge loss is a loss function used for training classifiers. The hinge loss is used for \"maximum-margin\" classification, most notably for support vector machines (SVMs).\n",
    "\n",
    "For an intended output t = ±1 and a classifier score y, the hinge loss of the prediction y is defined as\n",
    "\n",
    "loss(y) = max(0, 1-t*y)"
   ]
  },
  {
   "cell_type": "code",
   "execution_count": 27,
   "metadata": {
    "colab": {
     "base_uri": "https://localhost:8080/",
     "height": 607
    },
    "colab_type": "code",
    "id": "Bmxe4xHwG7PG",
    "outputId": "15177908-630e-43e7-bfd6-42f59c67691e"
   },
   "outputs": [
    {
     "name": "stdout",
     "output_type": "stream",
     "text": [
      "10000/10000 [==============================] - 5s 468us/step\n",
      "Test loss: 1.008201333618164 / Test accuracy: 0.08969999849796295\n"
     ]
    },
    {
     "data": {
      "image/png": "[encoded data removed]",
      "text/plain": [
       "<Figure size 432x288 with 1 Axes>"
      ]
     },
     "metadata": {
      "needs_background": "light",
      "tags": []
     },
     "output_type": "display_data"
    },
    {
     "data": {
      "image/png": "[encoded data removed]",
      "text/plain": [
       "<Figure size 432x288 with 1 Axes>"
      ]
     },
     "metadata": {
      "needs_background": "light",
      "tags": []
     },
     "output_type": "display_data"
    }
   ],
   "source": [
    "# Generate generalization metrics\n",
    "score = model.evaluate(x=x_test, y=y_test, verbose=1)\n",
    "print(f'Test loss: {score[0]} / Test accuracy: {score[1]}')\n",
    "\n",
    "# Visualize history\n",
    "# Plot history: Loss\n",
    "plt.plot(history.history['val_loss'])\n",
    "plt.title('Validation loss history')\n",
    "plt.ylabel('Loss value')\n",
    "plt.xlabel('No. epoch')\n",
    "plt.show()\n",
    "\n",
    "# Plot history: Accuracy\n",
    "plt.plot(history.history['val_accuracy'])\n",
    "plt.title('Validation accuracy history')\n",
    "plt.ylabel('Accuracy value (%)')\n",
    "plt.xlabel('No. epoch')\n",
    "plt.show()"
   ]
  },
  {
   "cell_type": "code",
   "execution_count": 0,
   "metadata": {
    "colab": {},
    "colab_type": "code",
    "id": "5q30qMQeG-QJ"
   },
   "outputs": [],
   "source": [
    "ans=model.predict(x_test)\n",
    "final_label=np.zeros(10000)\n",
    "gt=np.zeros(10000)\n",
    "\n",
    "for i in range(10000):\n",
    "  final_label[i]=np.argmax(ans[i,:])\n",
    "  gt[i]=np.argmax(y_test[i,:])"
   ]
  },
  {
   "cell_type": "code",
   "execution_count": 29,
   "metadata": {
    "colab": {
     "base_uri": "https://localhost:8080/",
     "height": 34
    },
    "colab_type": "code",
    "id": "ll-VzHZ5HA7A",
    "outputId": "8d4f910f-05f7-42fc-e3b9-e1c59cd51551"
   },
   "outputs": [
    {
     "name": "stdout",
     "output_type": "stream",
     "text": [
      "Test set accuracy: 0.0897\n"
     ]
    }
   ],
   "source": [
    "count=0\n",
    "for i in range(10000):\n",
    "  if(gt[i]==final_label[i]):\n",
    "    count=count+1\n",
    "\n",
    "print(\"Test set accuracy:\",count/10000)"
   ]
  },
  {
   "cell_type": "code",
   "execution_count": 0,
   "metadata": {
    "colab": {},
    "colab_type": "code",
    "id": "DKt2Ql_8cQ_H"
   },
   "outputs": [],
   "source": []
  }
 ],
 "metadata": {
  "accelerator": "GPU",
  "colab": {
   "collapsed_sections": [],
   "name": "Image_ClassificationCIFAR100.ipynb",
   "provenance": []
  },
  "kernelspec": {
   "display_name": "Python 3",
   "language": "python",
   "name": "python3"
  },
  "language_info": {
   "codemirror_mode": {
    "name": "ipython",
    "version": 3
   },
   "file_extension": ".py",
   "mimetype": "text/x-python",
   "name": "python",
   "nbconvert_exporter": "python",
   "pygments_lexer": "ipython3",
   "version": "3.7.3"
  }
 },
 "nbformat": 4,
 "nbformat_minor": 1
}
