{
 "cells": [
  {
   "cell_type": "code",
   "execution_count": 21,
   "metadata": {},
   "outputs": [],
   "source": [
    "import cv2\n",
    "import os\n",
    "import matplotlib.pyplot as plt\n",
    "import numpy as np"
   ]
  },
  {
   "cell_type": "markdown",
   "metadata": {},
   "source": [
    "# QUESTION 1"
   ]
  },
  {
   "cell_type": "code",
   "execution_count": 54,
   "metadata": {},
   "outputs": [],
   "source": [
    "#Converting Video into Images \n",
    "def Video_to_Images(video_path,frame_rate):\n",
    "    video = cv2.VideoCapture(video_path)\n",
    "    count = 1\n",
    "    sec = 0\n",
    "    while(video.isOpened()):\n",
    "        video.set(cv2.CAP_PROP_POS_MSEC,sec*1000)\n",
    "        has_frame, frame = video.read()\n",
    "        if(has_frame != 0):\n",
    "            cv2.imwrite(\"output_vid2img/image\"+str(count)+\".jpg\",frame)\n",
    "            count = count+1\n",
    "            sec = sec + frame_rate\n",
    "            sec = round(sec,2)\n",
    "        else:\n",
    "            break\n",
    "            \n",
    "video_path = 'input/Video.mp4'            \n",
    "Video_to_Images(video_path,30)        "
   ]
  },
  {
   "cell_type": "code",
   "execution_count": 57,
   "metadata": {},
   "outputs": [],
   "source": [
    "#Converting Images into Video \n",
    "frames = []\n",
    "def Images_to_Video(img_path,list_img,frame_rate,frames,vid_path):\n",
    "    for i in range(len(list_img)):\n",
    "        p = os.path.join(img_path,list_img[i])\n",
    "        frame = cv2.imread(p)\n",
    "        h,w,c = frame.shape\n",
    "        frame_size = (w,h)\n",
    "        frames.append(frame)\n",
    "        \n",
    "    out = cv2.VideoWriter(vid_path,cv2.VideoWriter_fourcc(*'mp4v'), frame_rate, frame_size)\n",
    "        \n",
    "    for i in range(len(frames)):\n",
    "        out.write(frames[i])\n",
    "    out.release()    \n",
    "    \n",
    "img_path = 'output_vid2img/'\n",
    "vid_path = './output_img2vid.mp4'\n",
    "list_imag = os.listdir(img_path)\n",
    "list_f=[]\n",
    "list_sec = []\n",
    "final_list = []\n",
    "\n",
    "for i in list_imag:\n",
    "    if len(i)!=10:\n",
    "        list_sec.append(i)\n",
    "    else:\n",
    "        list_f.append(i)\n",
    "\n",
    "list_f.sort()        \n",
    "list_sec.sort()\n",
    "list_f.extend(list_sec)\n",
    "\n",
    "\n",
    "frame_rate = 30\n",
    "\n",
    "Images_to_Video(img_path,list_f,frame_rate,frames,vid_path)    "
   ]
  },
  {
   "cell_type": "markdown",
   "metadata": {},
   "source": [
    "# QUESTION 2"
   ]
  },
  {
   "cell_type": "code",
   "execution_count": null,
   "metadata": {},
   "outputs": [],
   "source": [
    "#Capturing frames from a webcam \n",
    "count = 0\n",
    "while True:\n",
    "    has_frame, frame = cv2.VideoCapture(0).read()\n",
    "    cv2.imshow(\"frame\", frame)\n",
    "    if has_frame==0:\n",
    "        break\n",
    "    k = cv2.waitKey(1)\n",
    "    if k%256 == 27:\n",
    "        print(\"Closing Window\")\n",
    "        break\n",
    "    else:\n",
    "        name = \"frames_webcam/frame{}.png\".format(count)\n",
    "        cv2.imwrite(name, frame)\n",
    "        count = count + 1\n",
    "\n",
    "cv2.VideoCapture(0).release()\n",
    "cv2.destroyAllWindows()"
   ]
  },
  {
   "cell_type": "markdown",
   "metadata": {},
   "source": [
    "# QUESTION 3"
   ]
  },
  {
   "cell_type": "code",
   "execution_count": 53,
   "metadata": {},
   "outputs": [],
   "source": [
    "def chromakey(video_path1,video_path2,frame_rate):\n",
    "    fg = cv2.VideoCapture(video_path1)\n",
    "    bg = cv2.VideoCapture(video_path2)\n",
    "    count = 1\n",
    "    sec = 0\n",
    "    \n",
    "    while(fg.isOpened()):\n",
    "        fg.set(cv2.CAP_PROP_POS_MSEC,sec*1000)\n",
    "        bg.set(cv2.CAP_PROP_POS_MSEC,sec*1000)\n",
    "        has_frame1, frame1 = bg.read()\n",
    "        has_frame2, frame2 = fg.read()\n",
    "        frame1 = cv2.resize(frame1,(1080,1920))\n",
    "        \n",
    "        if(has_frame2 != 0):\n",
    "            image_copy = np.copy(frame2)\n",
    "            image_copy = cv2.cvtColor(image_copy, cv2.COLOR_BGR2RGB)\n",
    "            \n",
    "            lower_blue = np.array([0, 0, 100])  \n",
    "            upper_blue = np.array([120, 100, 255]) \n",
    "            mask = cv2.inRange(image_copy, lower_blue, upper_blue)\n",
    "            masked_image = np.copy(image_copy)\n",
    "            masked_image[mask != 0] = [0, 0, 0]\n",
    "            bg_img = cv2.cvtColor(frame1, cv2.COLOR_BGR2RGB)\n",
    "            crop_background = bg_img[0:1920, 0:1080]\n",
    "            crop_background[mask == 0] = [0, 0, 0]\n",
    "            final_image = crop_background + masked_image\n",
    "            final_image = cv2.cvtColor(final_image, cv2.COLOR_RGB2BGR)\n",
    "            cv2.imwrite(\"chromakey/image\"+str(count)+\".jpg\",final_image)\n",
    "            count = count+1\n",
    "            sec = sec + frame_rate\n",
    "            sec = round(sec,2)\n",
    "        else:\n",
    "            break\n",
    "\n",
    "def Imag_to_Video(img_path,list_img,frame_rate):\n",
    "    for i in range(len(list_img)):\n",
    "        p = os.path.join(img_path,list_img[i])\n",
    "        frame = cv2.imread(p)\n",
    "        h,w,c = frame.shape\n",
    "        frame_size = (w,h)\n",
    "        frames.append(frame)\n",
    "        \n",
    "    out = cv2.VideoWriter(vid_path,cv2.VideoWriter_fourcc(*'mp4v'), frame_rate, frame_size)\n",
    "        \n",
    "    for i in range(len(frames)):\n",
    "        out.write(frames[i])\n",
    "    out.release()    \n",
    "                \n",
    "            \n",
    "video_path1 = 'bluescreen.mp4'\n",
    "video_path2 = 'bg.mp4'\n",
    "frames = []\n",
    "frame_rate = 5\n",
    "\n",
    "chromakey(video_path1,video_path2,frame_rate) \n",
    "img_path = 'chromakey/'\n",
    "list_f = os.listdir(img_path)\n",
    "list_f.sort()\n",
    "vid_path = './chromakeyed_video.mp4'\n",
    "\n",
    "Imag_to_Video(img_path,list_f,frame_rate)    "
   ]
  },
  {
   "cell_type": "code",
   "execution_count": null,
   "metadata": {},
   "outputs": [],
   "source": []
  }
 ],
 "metadata": {
  "kernelspec": {
   "display_name": "Python 3",
   "language": "python",
   "name": "python3"
  },
  "language_info": {
   "codemirror_mode": {
    "name": "ipython",
    "version": 3
   },
   "file_extension": ".py",
   "mimetype": "text/x-python",
   "name": "python",
   "nbconvert_exporter": "python",
   "pygments_lexer": "ipython3",
   "version": "3.7.3"
  }
 },
 "nbformat": 4,
 "nbformat_minor": 2
}
